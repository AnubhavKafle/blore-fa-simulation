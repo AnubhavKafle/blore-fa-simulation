{
 "cells": [
  {
   "cell_type": "code",
   "execution_count": 74,
   "metadata": {
    "collapsed": true
   },
   "outputs": [],
   "source": [
    "import numpy as np\n",
    "import pandas as pd\n",
    "\n",
    "startsim = 101\n",
    "endsim = 105"
   ]
  },
  {
   "cell_type": "code",
   "execution_count": 75,
   "metadata": {
    "collapsed": true
   },
   "outputs": [],
   "source": [
    "basedir = '/scratch/sbanerj/quasi_laplace_gwas/simulated_phenotype/meta_nold'\n",
    "jobsdir = '/usr/users/sbanerj/quasi_laplace_gwas/simulation/jobsubs/meta_nold_bimodal'"
   ]
  },
  {
   "cell_type": "code",
   "execution_count": 76,
   "metadata": {
    "collapsed": true
   },
   "outputs": [],
   "source": [
    "def get_resource_from_lsfout(filename, resource_name = 'Run time'):\n",
    "    with open (filename, 'r') as mfile:\n",
    "        resource_block = False\n",
    "        while not resource_block:\n",
    "            mline = mfile.readline().strip()\n",
    "            if mline.startswith('Resource usage summary:'):\n",
    "                resource_block = True\n",
    "\n",
    "        resource_found = False\n",
    "        while not resource_found:\n",
    "            mline = mfile.readline().strip()\n",
    "            if mline.startswith(resource_name):\n",
    "                resource_found = True\n",
    "                resource = mline.split(':')[1].strip().split()[0].strip()\n",
    "                resource = float(resource)\n",
    "    return resource"
   ]
  },
  {
   "cell_type": "code",
   "execution_count": 112,
   "metadata": {},
   "outputs": [
    {
     "name": "stdout",
     "output_type": "stream",
     "text": [
      "sim101 3967.0 2731.0 79.0 100.0 70.0 7.0\n",
      "sim102 8353.0 1251.0 79.0 100.0 81.0 7.0\n",
      "sim103 6523.0 1120.0 79.0 100.0 70.0 15.0\n",
      "sim104 4610.0 633.0 79.0 100.0 55.0 7.0\n",
      "sim105 2433.0 625.0 79.0 100.0 51.0 15.0\n"
     ]
    }
   ],
   "source": [
    "import os\n",
    "\n",
    "zmax = 4\n",
    "muvar = '0'\n",
    "nfeat = 112\n",
    "blore_nofeat_times = list()\n",
    "blore_feat_times = list()\n",
    "paintor_nofeat_times = list()\n",
    "paintor_feat_times = list()\n",
    "finemap_times = list()\n",
    "caviarbf_times = list()\n",
    "resource_name = 'Max Memory'\n",
    "\n",
    "s = 0\n",
    "for sim in range(startsim, endsim+1):\n",
    "    \n",
    "    simname = 'sim{:03d}'.format(sim)\n",
    "    simdir = os.path.join(basedir, 'simulations', simname)\n",
    "    \n",
    "    # B-LORE\n",
    "    jobsubdir = os.path.join(jobsdir, simname, 'blore')\n",
    "    all_files = os.listdir(jobsubdir)\n",
    "    filelist = [x for x in all_files if x.startswith('blore_meta_{:03d}'.format(sim)) and x.endswith('{:d}_mu{:s}.out'.format(zmax, muvar))]\n",
    "    if len(filelist) == 1:\n",
    "        filename = os.path.join(jobsubdir, filelist[0])\n",
    "        time = get_resource_from_lsfout(filename, resource_name = resource_name)\n",
    "        blore_nofeat_times.append(time)\n",
    "    else:\n",
    "        print(\"Number of output files != 1\")\n",
    "        blore_nofeat_times.append(1000000)\n",
    "        \n",
    "    jobsubdir = os.path.join(jobsdir, simname, 'blore')\n",
    "    all_files = os.listdir(jobsubdir)\n",
    "    filelist = [x for x in all_files if x.startswith('blore_meta_feat_{:03d}'.format(sim)) and x.endswith('{:d}_mu{:s}.out'.format(zmax, muvar))]\n",
    "    if len(filelist) == 1:\n",
    "        filename = os.path.join(jobsubdir, filelist[0])\n",
    "        time = get_resource_from_lsfout(filename, resource_name = resource_name)\n",
    "        blore_feat_times.append(time)\n",
    "    else:\n",
    "        print(\"Number of output files != 1\")\n",
    "        blore_feat_times.append(1000000)\n",
    "        \n",
    "    # PAINTOR\n",
    "    jobsubdir = os.path.join(jobsdir, simname, 'paintor')\n",
    "    all_files = os.listdir(jobsubdir)\n",
    "    filelist = [x for x in all_files if x.startswith('paintor_{:03d}'.format(sim)) and x.endswith('.out')]\n",
    "    if len(filelist) == 1:\n",
    "        filename = os.path.join(jobsubdir, filelist[0])\n",
    "        time = get_resource_from_lsfout(filename, resource_name = resource_name)\n",
    "        paintor_nofeat_times.append(time)\n",
    "    else:\n",
    "        print(\"Number of output files != 1\")\n",
    "        paintor_nofeat_times.append(1000000)\n",
    "    \n",
    "    feat_times = list()\n",
    "    filelist = [x for x in all_files if x.startswith('pfa_{:03d}'.format(sim)) and x.endswith('.out')]\n",
    "    if len(filelist) == nfeat + 1:\n",
    "        for thisfile in filelist:\n",
    "            filename = os.path.join(jobsubdir, thisfile)\n",
    "            feat_times.append(get_resource_from_lsfout(filename, resource_name = resource_name))\n",
    "    filelist = [x for x in all_files if x.startswith('paintor_FA_{:03d}'.format(sim)) and x.endswith('.out')]\n",
    "    if sum(feat_times) > 0 and len(filelist) == 1:\n",
    "        filename = os.path.join(jobsubdir, filelist[0])\n",
    "        comtime = get_resource_from_lsfout(filename, resource_name = resource_name)\n",
    "        paintor_feat_times.append(max(comtime, max(feat_times)))\n",
    "        #paintor_feat_times.append(time + sum(feat_times))\n",
    "    else:\n",
    "        print(\"Number of output files != 1\")\n",
    "        paintor_feat_times.append(1000000)\n",
    "        \n",
    "    # FINEMAP\n",
    "    jobsubdir = os.path.join(jobsdir, simname, 'finemap')\n",
    "    all_files = os.listdir(jobsubdir)\n",
    "    filelist = [x for x in all_files if x.startswith('finemap_c{:d}_{:03d}'.format(zmax, sim)) and x.endswith('.out')]\n",
    "    if len(filelist) == 1:\n",
    "        filename = os.path.join(jobsubdir, filelist[0])\n",
    "        time = get_resource_from_lsfout(filename, resource_name = resource_name)\n",
    "        finemap_times.append(time)\n",
    "        \n",
    "    # FINEMAP\n",
    "    jobsubdir = os.path.join(jobsdir, simname, 'caviarbf')\n",
    "    all_files = os.listdir(jobsubdir)\n",
    "    filelist = [x for x in all_files if x.startswith('caviarbf_c{:d}_{:03d}'.format(2, sim)) and x.endswith('.out')]\n",
    "    if len(filelist) == 1:\n",
    "        filename = os.path.join(jobsubdir, filelist[0])\n",
    "        time = get_resource_from_lsfout(filename, resource_name = resource_name)\n",
    "        caviarbf_times.append(time)\n",
    "    \n",
    "        \n",
    "            \n",
    "    print(simname, blore_nofeat_times[s], blore_feat_times[s], paintor_nofeat_times[s], paintor_feat_times[s], finemap_times[s], caviarbf_times[s])\n",
    "    s += 1"
   ]
  },
  {
   "cell_type": "code",
   "execution_count": 123,
   "metadata": {},
   "outputs": [
    {
     "name": "stdout",
     "output_type": "stream",
     "text": [
      "sim001 [688.0, 1304.0, 595.0, 785.0, 624.0]\n",
      "sim002 [786.0, 585.0, 664.0, 1316.0, 676.0]\n",
      "sim003 [573.0, 778.0, 575.0, 711.0, 1255.0]\n",
      "sim004 [734.0, 1332.0, 714.0, 818.0, 593.0]\n",
      "sim005 [636.0, 876.0, 763.0, 1283.0, 680.0]\n"
     ]
    }
   ],
   "source": [
    "import os\n",
    "\n",
    "resource_name = 'Run time'\n",
    "jobsdir = '/usr/users/sbanerj/quasi_laplace_gwas/simulation/jobsubs/meta_nold_fixed'\n",
    "\n",
    "s = 0\n",
    "for sim in [1, 2, 3, 4, 5]:\n",
    "    \n",
    "    simname = 'sim{:03d}'.format(sim)\n",
    "    simdir = os.path.join(basedir, 'simulations', simname)\n",
    "    \n",
    "    # B-LORE\n",
    "    blore_times = list()\n",
    "    jobsubdir = os.path.join(jobsdir, simname, 'blore')\n",
    "    all_files = os.listdir(jobsubdir)\n",
    "    filelist = [x for x in all_files if x.startswith('blore_{:d}'.format(sim)) and x.endswith('.out')]\n",
    "    for thisfile in filelist:\n",
    "        filename = os.path.join(jobsubdir, thisfile)\n",
    "        time = get_resource_from_lsfout(filename, resource_name = resource_name)\n",
    "        blore_times.append(time)\n",
    "            \n",
    "    print(simname, blore_times)"
   ]
  },
  {
   "cell_type": "code",
   "execution_count": 124,
   "metadata": {},
   "outputs": [
    {
     "name": "stdout",
     "output_type": "stream",
     "text": [
      "sim101 [1356.0, 706.0, 588.0, 942.0, 941.0]\n",
      "sim102 [1268.0, 698.0, 714.0, 526.0, 828.0]\n",
      "sim103 [771.0, 1351.0, 1093.0, 664.0, 787.0]\n",
      "sim104 [742.0, 531.0, 784.0, 691.0, 1249.0]\n",
      "sim105 [1128.0, 586.0, 835.0, 1281.0, 778.0]\n"
     ]
    }
   ],
   "source": [
    "jobsdir = '/usr/users/sbanerj/quasi_laplace_gwas/simulation/jobsubs/meta_nold_bimodal'\n",
    "\n",
    "s = 0\n",
    "for sim in [101, 102, 103, 104, 105]:\n",
    "    \n",
    "    simname = 'sim{:03d}'.format(sim)\n",
    "    simdir = os.path.join(basedir, 'simulations', simname)\n",
    "    \n",
    "    # B-LORE\n",
    "    blore_times = list()\n",
    "    jobsubdir = os.path.join(jobsdir, simname, 'blore')\n",
    "    all_files = os.listdir(jobsubdir)\n",
    "    filelist = [x for x in all_files if x.startswith('blore_{:d}'.format(sim)) and x.endswith('.out')]\n",
    "    for thisfile in filelist:\n",
    "        filename = os.path.join(jobsubdir, thisfile)\n",
    "        time = get_resource_from_lsfout(filename, resource_name = resource_name)\n",
    "        blore_times.append(time)\n",
    "            \n",
    "    print(simname, blore_times)"
   ]
  },
  {
   "cell_type": "code",
   "execution_count": 125,
   "metadata": {},
   "outputs": [
    {
     "name": "stdout",
     "output_type": "stream",
     "text": [
      "sim071 [2620.0, 589.0, 789.0, 696.0, 1812.0]\n",
      "sim072 [1525.0, 615.0, 705.0, 1780.0, 807.0]\n",
      "sim073 [629.0, 832.0, 1424.0, 1192.0, 1605.0]\n",
      "sim074 [1815.0, 957.0, 759.0, 1322.0, 649.0]\n",
      "sim075 [1529.0, 951.0, 1236.0, 580.0, 1486.0]\n"
     ]
    }
   ],
   "source": [
    "resource_name = 'Run time'\n",
    "jobsdir = '/usr/users/sbanerj/quasi_laplace_gwas/simulation/jobsubs/meta_nold_random'\n",
    "\n",
    "s = 0\n",
    "for sim in [71, 72, 73, 74, 75]:\n",
    "    \n",
    "    simname = 'sim{:03d}'.format(sim)\n",
    "    simdir = os.path.join(basedir, 'simulations', simname)\n",
    "    \n",
    "    # B-LORE\n",
    "    blore_times = list()\n",
    "    jobsubdir = os.path.join(jobsdir, simname, 'blore')\n",
    "    all_files = os.listdir(jobsubdir)\n",
    "    filelist = [x for x in all_files if x.startswith('blore_{:d}'.format(sim)) and x.endswith('.out')]\n",
    "    for thisfile in filelist:\n",
    "        filename = os.path.join(jobsubdir, thisfile)\n",
    "        time = get_resource_from_lsfout(filename, resource_name = resource_name)\n",
    "        blore_times.append(time)\n",
    "            \n",
    "    print(simname, blore_times)"
   ]
  },
  {
   "cell_type": "code",
   "execution_count": null,
   "metadata": {
    "collapsed": true
   },
   "outputs": [],
   "source": []
  }
 ],
 "metadata": {
  "kernelspec": {
   "display_name": "Python 3",
   "language": "python",
   "name": "python3"
  },
  "language_info": {
   "codemirror_mode": {
    "name": "ipython",
    "version": 3
   },
   "file_extension": ".py",
   "mimetype": "text/x-python",
   "name": "python",
   "nbconvert_exporter": "python",
   "pygments_lexer": "ipython3",
   "version": "3.5.4"
  }
 },
 "nbformat": 4,
 "nbformat_minor": 2
}
