{
 "cells": [
  {
   "cell_type": "code",
   "execution_count": 2,
   "metadata": {},
   "outputs": [],
   "source": [
    "import numpy as np\n",
    "import re\n",
    "import collections\n",
    "import glob\n",
    "import os\n",
    "\n",
    "nloci=200\n",
    "\n",
    "basedir='/mnt/storage/saikat/work/multivariate-gwas-bayesian-logistic-regression/artificial_phenotype/metaprod/simulations_nold_feat/sim201/'\n",
    "\n",
    "causal_loci = list()\n",
    "causal_file = basedir + 'samples/causal.snplist'\n",
    "with open(causal_file, 'r') as mfile:\n",
    "    for mline in mfile:\n",
    "        mline_split =  mline.split()\n",
    "        if mline_split[0] == 'Locus':\n",
    "            if int(mline_split[3]) == 1:\n",
    "                locus = re.sub(',', '', mline_split[1])\n",
    "                causal_loci.append(locus)\n",
    "causal_loci = np.array(causal_loci).astype(int) - 1\n",
    "\n",
    "\n",
    "causal_snps = collections.defaultdict(lambda:0)\n",
    "with open(causal_file, 'r') as mfile:\n",
    "    for mline in mfile:\n",
    "        if not mline.startswith('#'):\n",
    "            mline_split =  mline.split()\n",
    "            if not mline_split[0] == 'Locus':\n",
    "                causal_snps[mline_split[0]] = float(mline_split[1])\n",
    "causal_rsids = [rsid for rsid, val in causal_snps.items()]"
   ]
  },
  {
   "cell_type": "code",
   "execution_count": 5,
   "metadata": {},
   "outputs": [],
   "source": [
    "# PVALUES\n",
    "estimated_logpval = list()\n",
    "actual_logpval = list()\n",
    "for locus in range(nloci):\n",
    "    resfile = basedir + 'snptest/meta/Locus.' + \"%03i\" % (locus + 1) + '.meta.out'\n",
    "    with open(resfile, 'r') as mfile:\n",
    "        for mline in mfile:\n",
    "            #if not mline.startswith('#') and not mline.startswith('alternate_ids'):\n",
    "            if not mline.startswith('#') and not mline.startswith('chr'):\n",
    "                mlinesplit = mline.split()\n",
    "                rsid = mlinesplit[1]\n",
    "                pval = float(mlinesplit[5])\n",
    "                estimated_logpval.append(-np.log(pval))\n",
    "                if rsid in causal_rsids:\n",
    "                    actual_logpval.append(1)\n",
    "                else:\n",
    "                    actual_logpval.append(0)\n",
    "\n",
    "estimated_logpval = np.array(estimated_logpval).astype(float)                \n",
    "actual_logpval = np.array(actual_logpval).astype(int)\n",
    "\n",
    "# CAVIARBF\n",
    "estimated_caviarbf = list()\n",
    "actual_caviarbf = list()\n",
    "for locus in range(nloci):\n",
    "    rsidfile = basedir + 'caviarbf/c2_weighted/Locus.%03i' % (locus + 1)\n",
    "    rsidlist = list()\n",
    "    with open(rsidfile, 'r') as mfile:\n",
    "        for mline in mfile:\n",
    "            rsidlist.append(mline.split()[0])\n",
    "    resfile = basedir + 'caviarbf/c2_weighted/Locus.%03i.prior0.marginal' % (locus + 1)\n",
    "    with open(resfile, 'r') as mfile:\n",
    "        for mline in mfile:\n",
    "            mlinesplit = mline.split()\n",
    "            index = int(mlinesplit[0]) - 1\n",
    "            rsid = rsidlist[index]\n",
    "            estimated_caviarbf.append(float(mlinesplit[1]))\n",
    "            if rsid in causal_rsids:\n",
    "                actual_caviarbf.append(1)\n",
    "            else:\n",
    "                actual_caviarbf.append(0)\n",
    "\n",
    "estimated_caviarbf = np.array(estimated_caviarbf).astype(float)                \n",
    "actual_caviarbf = np.array(actual_caviarbf).astype(int)\n",
    "\n",
    "# PAINTOR\n",
    "estimated_paintor = list()\n",
    "actual_paintor = list()\n",
    "for locus in range(nloci):\n",
    "    resfile = basedir + 'paintor/combined_LD/output/Locus.%03i.results' % (locus + 1)\n",
    "    with open(resfile, 'r') as mfile:\n",
    "        next(mfile)\n",
    "        for mline in mfile:\n",
    "            mlinesplit = mline.split()\n",
    "            rsid = mlinesplit[2]\n",
    "            estimated_paintor.append(float(mlinesplit[4]))\n",
    "            if rsid in causal_rsids:\n",
    "                actual_paintor.append(1)\n",
    "            else:\n",
    "                actual_paintor.append(0)\n",
    "estimated_paintor = np.array(estimated_paintor).astype(float)\n",
    "actual_paintor = np.array(actual_paintor).astype(int)\n",
    "\n",
    "def file_len(fname):\n",
    "    with open(fname) as f:\n",
    "        for i, l in enumerate(f):\n",
    "            pass\n",
    "    return i + 1\n",
    "\n",
    "# BIMBAM\n",
    "estimated_bimbam = list()\n",
    "actual_bimbam = list()\n",
    "for locus in range(nloci):\n",
    "    resfile = basedir + 'bimbam/meta/output/Locus.%03i.meta.ssd-bf.txt' % (locus + 1)\n",
    "    nsnps = file_len(resfile) - 1\n",
    "    with open(resfile, 'r') as mfile:\n",
    "        next(mfile)\n",
    "        for mline in mfile:\n",
    "            mlinesplit = mline.split()\n",
    "            rsid = mlinesplit[0]\n",
    "            log10bf = float(mlinesplit[1])\n",
    "            pi = 2 / nsnps\n",
    "            postodd = (np.power(10, log10bf) * pi) / (1 - pi)\n",
    "            ppa = postodd / (1 + postodd)\n",
    "            estimated_bimbam.append(ppa)\n",
    "            if rsid in causal_rsids:\n",
    "                actual_bimbam.append(1)\n",
    "            else:\n",
    "                actual_bimbam.append(0)\n",
    "\n",
    "estimated_bimbam = np.array(estimated_bimbam)\n",
    "actual_bimbam = np.array(actual_bimbam)\n",
    "\n",
    "# BVSLR\n",
    "estimated_bvslr = list()\n",
    "actual_bvslr = list()\n",
    "for locus in range(nloci):\n",
    "    outfile = basedir + 'blore/zmax4_muvar_pi0.01_sig0.01/blore_meta_res/Locus.%03i.gen.res' % (locus + 1)\n",
    "    with open(outfile, 'r') as mfile:\n",
    "        for mline in mfile:\n",
    "            mline_split = mline.split()\n",
    "            if not mline_split[0] == 'Causal':\n",
    "                rsid = mline_split[0]\n",
    "                estimated_bvslr.append(float(mline_split[4]))\n",
    "                if rsid in causal_rsids:\n",
    "                    actual_bvslr.append(1)\n",
    "                else:\n",
    "                    actual_bvslr.append(0)\n",
    "\n",
    "estimated_bvslr = np.array(estimated_bvslr).astype(float)                \n",
    "actual_bvslr = np.array(actual_bvslr).astype(int)"
   ]
  },
  {
   "cell_type": "code",
   "execution_count": 32,
   "metadata": {},
   "outputs": [
    {
     "data": {
      "image/png": "[encoded data removed]",
      "text/plain": [
       "<matplotlib.figure.Figure at 0x7fab2f3b84a8>"
      ]
     },
     "metadata": {},
     "output_type": "display_data"
    }
   ],
   "source": [
    "import matplotlib.pyplot as plt\n",
    "from sklearn import metrics\n",
    "import receiving_operating_characteristic as roc\n",
    "\n",
    "colors = ['#2A53C1', '#F03C3F', 'yellowgreen', '#2B2828']\n",
    "figsize = (6,6)\n",
    "marker_list = ['8', '>', 'd', '<', '*', 'p', '^', 's', 'h', 'v', 'D', r'$\\clubsuit$']\n",
    "fig = plt.figure(figsize=figsize)\n",
    "ax1 = fig.add_subplot(1, 1, 1)\n",
    "xx = [0, 200]\n",
    "yy = [0,1]\n",
    "ax1.plot(xx, yy, '--', color='dimgrey', lw=2)\n",
    "\n",
    "#P-VALUES\n",
    "fpr_py, tpr_py, thresholds = metrics.roc_curve(actual_logpval, estimated_logpval)\n",
    "fpr, tpr, precision, recall, nselected, auc = roc.roc_values(actual_logpval, estimated_logpval, 0)\n",
    "nselected = np.array(nselected).astype(float) / nloci\n",
    "auc_py = metrics.auc(fpr_py, tpr_py)\n",
    "color = colors[3]\n",
    "linestyle = 'solid'\n",
    "mlabel_roc_py = 'SNPTEST META (AUC = ' + \"%3.2f\" % auc_py + ')'\n",
    "#ax1.plot(fpr_py, tpr_py, color=color, linestyle=linestyle, lw=2, label=mlabel_roc_py)\n",
    "ax1.plot(nselected, recall, color=color, linestyle=linestyle, lw=2, label=mlabel_roc_py)\n",
    "\n",
    "# CAVIARBF\n",
    "fpr_py, tpr_py, thresholds = metrics.roc_curve(actual_caviarbf, estimated_caviarbf)\n",
    "fpr, tpr, precision, recall, nselected, auc = roc.roc_values(actual_caviarbf, estimated_caviarbf, 0)\n",
    "nselected = np.array(nselected).astype(float) / nloci\n",
    "auc_py = metrics.auc(fpr_py, tpr_py)\n",
    "color = colors[0]\n",
    "linestyle = 'solid'\n",
    "mlabel_roc_py = 'CAVIARBF (AUC = ' + \"%3.2f\" % auc_py + ')'\n",
    "#ax1.plot(fpr_py, tpr_py, color=color, linestyle=linestyle, lw=2, label=mlabel_roc_py)\n",
    "ax1.plot(nselected, recall, color=color, linestyle=linestyle, lw=2, label=mlabel_roc_py)\n",
    "\n",
    "#PAINTOR\n",
    "fpr_py, tpr_py, thresholds = metrics.roc_curve(actual_paintor, estimated_paintor)\n",
    "fpr, tpr, precision, recall, nselected, auc = roc.roc_values(actual_paintor, estimated_paintor, 0)\n",
    "nselected = np.array(nselected).astype(float) / nloci\n",
    "auc_py = metrics.auc(fpr_py, tpr_py)\n",
    "color = colors[2]\n",
    "linestyle = 'solid'\n",
    "mlabel_roc_py = 'PAINTOR (AUC = ' + \"%3.2f\" % auc_py + ')'\n",
    "#ax1.plot(fpr_py, tpr_py, color=color, linestyle=linestyle, lw=2, label=mlabel_roc_py)\n",
    "ax1.plot(nselected, recall, color=color, linestyle=linestyle, lw=2, label=mlabel_roc_py)\n",
    "\n",
    "\n",
    "# BIMBAM\n",
    "fpr_py, tpr_py, thresholds = metrics.roc_curve(actual_bimbam, estimated_bimbam)\n",
    "fpr, tpr, precision, recall, nselected, auc = roc.roc_values(actual_bimbam, estimated_bimbam, 0)\n",
    "nselected = np.array(nselected).astype(float) / nloci\n",
    "auc_py = metrics.auc(fpr_py, tpr_py)\n",
    "color = colors[2]\n",
    "linestyle = 'solid'\n",
    "mlabel_roc_py = 'BIMBAM (AUC = ' + \"%3.2f\" % auc_py + ')'\n",
    "#ax1.plot(fpr_py, tpr_py, color=color, linestyle=linestyle, lw=2, label=mlabel_roc_py)\n",
    "ax1.plot(nselected, recall, color=color, linestyle=linestyle, lw=2, label=mlabel_roc_py)\n",
    "\n",
    "#BVSLR\n",
    "fpr_py, tpr_py, thresholds = metrics.roc_curve(actual_bvslr, estimated_bvslr)\n",
    "fpr, tpr, precision, recall, nselected, auc = roc.roc_values(actual_bvslr, estimated_bvslr, 0)\n",
    "nselected = np.array(nselected).astype(float) / nloci\n",
    "auc_py = metrics.auc(fpr_py, tpr_py)\n",
    "color = colors[1]\n",
    "linestyle = 'solid'\n",
    "mlabel_roc_py = 'BVSLR (AUC = ' + \"%3.2f\" % auc_py + ')'\n",
    "#ax1.plot(fpr_py, tpr_py, color=color, linestyle=linestyle, lw=2, label=mlabel_roc_py)\n",
    "ax1.plot(nselected, recall, color=color, linestyle=linestyle, lw=2, label=mlabel_roc_py)\n",
    "\n",
    "\n",
    "\n",
    "ax1.set_xlim([0,200])\n",
    "ax1.set_ylim([0,1])\n",
    "ax1.set_xlabel('Average # of SNPs selected')\n",
    "ax1.set_ylabel('Proportion of causal variants identified')\n",
    "ax1.legend(loc='lower right')\n",
    "ax1.grid(color='darkgrey', lw=0.5)\n",
    "\n",
    "ax1.set_xlim(0, 30)\n",
    "\n",
    "plt.show()"
   ]
  },
  {
   "cell_type": "code",
   "execution_count": 8,
   "metadata": {},
   "outputs": [
    {
     "data": {
      "text/plain": [
       "array([ 0.      ,  0.      ,  0.      , ...,  0.532642,  0.708151,\n",
       "        0.768583])"
      ]
     },
     "execution_count": 8,
     "metadata": {},
     "output_type": "execute_result"
    }
   ],
   "source": [
    "bsort = np.argsort(estimated_bvslr)\n",
    "estimated_bvslr[bsort]"
   ]
  },
  {
   "cell_type": "code",
   "execution_count": 20,
   "metadata": {},
   "outputs": [
    {
     "data": {
      "text/plain": [
       "array([  0.00000000e+00,   2.50000000e-05,   5.00000000e-05, ...,\n",
       "         9.38750000e-02,   9.39000000e-02,   1.00077500e+00])"
      ]
     },
     "execution_count": 20,
     "metadata": {},
     "output_type": "execute_result"
    }
   ],
   "source": [
    "np.array(nselected).astype(float) / nloci"
   ]
  },
  {
   "cell_type": "code",
   "execution_count": 28,
   "metadata": {},
   "outputs": [
    {
     "data": {
      "image/png": "[encoded data removed]",
      "text/plain": [
       "<matplotlib.figure.Figure at 0x7fab2f3471d0>"
      ]
     },
     "metadata": {},
     "output_type": "display_data"
    }
   ],
   "source": [
    "fig = plt.figure()\n",
    "plt.scatter(nselected, recall)\n",
    "plt.show()"
   ]
  },
  {
   "cell_type": "code",
   "execution_count": null,
   "metadata": {
    "collapsed": true
   },
   "outputs": [],
   "source": []
  }
 ],
 "metadata": {
  "kernelspec": {
   "display_name": "Python 3",
   "language": "python",
   "name": "python3"
  },
  "language_info": {
   "codemirror_mode": {
    "name": "ipython",
    "version": 3
   },
   "file_extension": ".py",
   "mimetype": "text/x-python",
   "name": "python",
   "nbconvert_exporter": "python",
   "pygments_lexer": "ipython3",
   "version": "3.6.1"
  }
 },
 "nbformat": 4,
 "nbformat_minor": 1
}
